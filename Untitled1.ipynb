{
 "cells": [
  {
   "cell_type": "markdown",
   "id": "48f753a3",
   "metadata": {},
   "source": [
    "# Create project"
   ]
  },
  {
   "cell_type": "code",
   "execution_count": 1,
   "id": "7ef5c153",
   "metadata": {},
   "outputs": [],
   "source": [
    "#import libraries \n",
    "import json\n",
    "import pandas as pd\n",
    "import numpy as np\n",
    "import seaborn as sns\n",
    "import matplotlib.pyplot as plt\n",
    "\n",
    "## Preprocessing tools\n",
    "from sklearn.model_selection import train_test_split\n",
    "from sklearn.compose import make_column_transformer, make_column_selector\n",
    "from sklearn.pipeline import make_pipeline\n",
    "from sklearn.preprocessing import OneHotEncoder, StandardScaler\n",
    "from sklearn.impute import SimpleImputer\n",
    "\n",
    "\n",
    "## Models & evaluation metrics\n",
    "from sklearn import metrics\n",
    "from sklearn.linear_model import LinearRegression\n",
    "from sklearn.tree import DecisionTreeRegressor\n",
    "from sklearn.ensemble import RandomForestRegressor\n",
    "import joblib\n",
    "\n",
    "# ## setting random state for reproducibility\n",
    "SEED = 321\n",
    "np.random.seed(SEED)\n",
    "\n",
    "## Matplotlib style\n",
    "fav_style = ('ggplot','tableau-colorblind10')\n",
    "fav_context  ={'context':'notebook', 'font_scale':1.1}\n",
    "plt.style.use(fav_style)\n",
    "sns.set_context(**fav_context)\n",
    "plt.rcParams['savefig.transparent'] = False\n",
    "plt.rcParams['savefig.bbox'] = 'tight'"
   ]
  },
  {
   "cell_type": "code",
   "execution_count": 23,
   "id": "8f0cba79",
   "metadata": {},
   "outputs": [
    {
     "name": "stdout",
     "output_type": "stream",
     "text": [
      "Python 3.9.15\n",
      "sklearn version: 1.1.3\n"
     ]
    }
   ],
   "source": [
    "#Set sktlearn\n",
    "import sklearn\n",
    "!python --version\n",
    "print(f\"sklearn version: {sklearn.__version__}\")"
   ]
  },
  {
   "cell_type": "markdown",
   "id": "5825cc7a",
   "metadata": {},
   "source": [
    "## Custom Functions"
   ]
  },
  {
   "cell_type": "code",
   "execution_count": 8,
   "id": "61010619",
   "metadata": {},
   "outputs": [],
   "source": [
    "def find_outliers_Z(data, verbose=True):\n",
    "    import pandas as pd\n",
    "    import numpy as np\n",
    "    import scipy.stats as stats\n",
    "    outliers = np.abs(stats.zscore(data))>3\n",
    "    \n",
    "    \n",
    "    if verbose:\n",
    "        n = len(outliers)\n",
    "        print(f\"- {outliers.sum():,} outliers found in {data.name} out of {n:,}\\\n",
    "              rows ({outliers.sum()/n*100:.2f}%) using Z-scores.\")\n",
    "\n",
    "    outliers = pd.Series(outliers, index=data.index, name=data.name)\n",
    "    return outliers\n",
    "\n",
    "\n",
    "def find_outliers_IQR(data, verbose=True):\n",
    "    import pandas as pd\n",
    "    import numpy as np\n",
    "    q3 = np.quantile(data,.75)\n",
    "    q1 = np.quantile(data,.25)\n",
    "\n",
    "    IQR = q3 - q1\n",
    "    upper_threshold = q3 + 1.5*IQR\n",
    "    lower_threshold = q1 - 1.5*IQR\n",
    "    \n",
    "    outliers = (data<lower_threshold) | (data>upper_threshold)\n",
    "    if verbose:\n",
    "        n = len(outliers)\n",
    "    \n",
    "    \n",
    "        print(f\"- {outliers.sum():,} outliers found in {data.name} out of {n:,}\\\n",
    "              rows ({outliers.sum()/n*100:.2f}%) using IQR.\")\n",
    "        \n",
    "    outliers = pd.Series(outliers, index=data.index, name=data.name)\n",
    "    return outliers\n",
    "\n"
   ]
  },
  {
   "cell_type": "code",
   "execution_count": 14,
   "id": "5a2984fe",
   "metadata": {},
   "outputs": [],
   "source": [
    "def remove_outliers(df_,method='iqr', subset=None, verbose=2):\n",
    "    \"\"\"Returns a copy of the input df with outleirs removed from all\n",
    "    columns using the selected method (either 'iqr' or 'z'/'zscore')\n",
    "    \n",
    "    Arguments:\n",
    "        df_ (Frame): Dataframe to copy and remove outleirs from\n",
    "        method (str): Method of outlier removal. Options are 'iqr' or 'z' (default is 'iqr')\n",
    "        subset (list or None): List of column names to remove outliers from. If None, uses all numeric columns.\n",
    "        verbose (bool, int): If verbose==1, print only overall summary. If verbose==2, print detailed summary\"\"\"\n",
    "    import pandas as pd\n",
    "    ## Make a cope of input dataframe  \n",
    "    df = df_.copy()\n",
    "    \n",
    "    ## Set verbose_func for calls to outleir funcs\n",
    "    if verbose==2:\n",
    "        verbose_func = True\n",
    "    else:\n",
    "        verbose_func=False\n",
    "        \n",
    "    ## Set outlier removal function and name\n",
    "    if method.lower()=='iqr':\n",
    "        find_outlier_func = find_outliers_IQR\n",
    "        method_name = \"IQR rule\"\n",
    "    elif 'z' in method.lower():\n",
    "        find_outlier_func = find_outliers_Z\n",
    "        method_name = 'Z_score rule'\n",
    "    else:\n",
    "        raise Exception('[!] Method must be either \"iqr\" or \"z\".')\n",
    "        \n",
    "    ## Set list of cols to remove outliers from\n",
    "    if subset is None:\n",
    "        col_list = df.select_dtypes('number').columns\n",
    "    elif isinstance(subset,str):\n",
    "        col_list = [subset]\n",
    "    elif isinstance(subset, list):\n",
    "        col_list = subset\n",
    "    else:\n",
    "        raise Exception(\"[!] subset must be None, a single string, or a list of strings.\")\n",
    " ## Empty dict for both types of outliers\n",
    "    outliers = {}\n",
    "\n",
    "    ## Use both functions to see the comparison for # of outliers\n",
    "    for col in col_list:\n",
    "        idx_outliers = find_outlier_func(df[col],verbose=verbose_func)\n",
    "        outliers[col] = idx_outliers\n",
    "\n",
    "    \n",
    "    ## Getting final df of all outliers to get 1 final T/F index\n",
    "    outliers_combined = pd.DataFrame(outliers).any(axis=1)\n",
    "    \n",
    "    if verbose:\n",
    "        n = len(outliers_combined)\n",
    "        print(f\"\\n[i] Overall, {outliers_combined.sum():,} rows out of {n:,}\\\n",
    "        ({outliers_combined.sum()/n*100:.2f}%) were removed as outliers using {method_name}.\")\n",
    "    \n",
    "    \n",
    "    # remove_outliers \n",
    "    df_clean = df[~outliers_combined].copy()\n",
    "    return df_clean"
   ]
  },
  {
   "cell_type": "code",
   "execution_count": 9,
   "id": "5ad0162a",
   "metadata": {},
   "outputs": [],
   "source": [
    "def evaluate_regression(model, X_train,y_train, X_test, y_test,for_slides=True): \n",
    "    \n",
    "    ## Training Data\n",
    "    y_pred_train = model.predict(X_train)\n",
    "    r2_train = metrics.r2_score(y_train, y_pred_train)\n",
    "    rmse_train = metrics.mean_squared_error(y_train, y_pred_train, \n",
    "                                            squared=False)\n",
    "    mae_train = metrics.mean_absolute_error(y_train, y_pred_train)\n",
    "    \n",
    "\n",
    "    ## Test Data\n",
    "    y_pred_test = model.predict(X_test)\n",
    "    r2_test = metrics.r2_score(y_test, y_pred_test)\n",
    "    rmse_test = metrics.mean_squared_error(y_test, y_pred_test, \n",
    "                                            squared=False)\n",
    "    mae_test = metrics.mean_absolute_error(y_test, y_pred_test)\n",
    "    \n",
    "    if for_slides:\n",
    "        df_version =[['Split','R^2','MAE','RMSE']]\n",
    "        df_version.append(['Train',r2_train, mae_train, rmse_train])\n",
    "        df_version.append(['Test',r2_test, mae_test, rmse_test])\n",
    "        df_results = pd.DataFrame(df_version[1:], columns=df_version[0])\n",
    "        df_results = df_results.round(2)\n",
    "        display(df_results.style.hide(axis='index').format(precision=2, thousands=','))\n",
    "        \n",
    "    else: \n",
    "        print(f\"Training Data:\\tR^2 = {r2_train:,.2f}\\tRMSE = {rmse_train:,.2f}\\tMAE = {mae_train:,.2f}\")\n",
    "        print(f\"Test Data:\\tR^2 = {r2_test:,.2f}\\tRMSE = {rmse_test:,.2f}\\tMAE = {mae_test:,.2f}\")"
   ]
  },
  {
   "cell_type": "code",
   "execution_count": 10,
   "id": "89aca18f",
   "metadata": {},
   "outputs": [],
   "source": [
    "# get coefficients function\n",
    "def get_coefficients(lin_reg):\n",
    "    coeffs = pd.Series(lin_reg.coef_, index= lin_reg.feature_names_in_)\n",
    "    coeffs.loc['intercept'] = lin_reg.intercept_\n",
    "    return coeffs"
   ]
  },
  {
   "cell_type": "code",
   "execution_count": 11,
   "id": "7aceec7f",
   "metadata": {},
   "outputs": [],
   "source": [
    "# plot coefficients functions\n",
    "def plot_coeffs(coeffs, top_n=None,  figsize=(4,5), intercept=False, \n",
    "                annotate=False, ha='left',va='center', size=12, xytext=(4,0),\n",
    "                  textcoords='offset points'):\n",
    "    \"\"\"Plots the top_n coefficients from a Series, with optional annotations.\"\"\"\n",
    "    if (intercept==False) & ('intercept' in coeffs.index):\n",
    "        coeffs = coeffs.drop('intercept')\n",
    "    if top_n==None:\n",
    "        ## sort all features and set title\n",
    "        plot_vals = coeffs#.sort_values()\n",
    "        title = \"All Coefficients - Ranked by Magnitude\"\n",
    "    else:\n",
    "        ## rank the coeffs and select the top_n\n",
    "        coeff_rank = coeffs.abs().rank().sort_values(ascending=False)\n",
    "        top_n_features = coeff_rank.head(top_n)\n",
    "        plot_vals = coeffs.loc[top_n_features.index].sort_values()\n",
    "        ## sort features and keep top_n and set title\n",
    "        title = f\"Top {top_n} Largest Coefficients\"\n",
    "    ## plotting top N importances\n",
    "    ax = plot_vals.plot(kind='barh', figsize=figsize)\n",
    "    fig= ax.get_figure()\n",
    "    ax.set(xlabel='Coefficient', \n",
    "           ylabel='Feature Names', \n",
    "           title=title)\n",
    "    ax.axvline(0, color='k')\n",
    "#sns.plt.show()\n",
    "    if annotate==True:\n",
    "        annotate_hbars(ax, ha=ha,va=va,size=size,xytext=xytext,\n",
    "                       textcoords=textcoords)\n",
    "    ## return ax in case want to continue to update/modify figure\n",
    "    return ax"
   ]
  },
  {
   "cell_type": "code",
   "execution_count": 12,
   "id": "b6a62340",
   "metadata": {},
   "outputs": [],
   "source": [
    "def annotate_hbars(ax, ha='left',va='center',size=12,  xytext=(4,0),\n",
    "                  textcoords='offset points'):\n",
    "    for bar in ax.patches:\n",
    "    \n",
    "        ## calculate center of bar\n",
    "        bar_ax = bar.get_y() + bar.get_height()/2\n",
    "        ## get the value to annotate\n",
    "        val = bar.get_width()\n",
    "        if val < 0:\n",
    "            val_pos = 0\n",
    "        else:\n",
    "            val_pos = val\n",
    "        # ha and va stand for the horizontal and vertical alignment\n",
    "        ax.annotate(f\"{val:.3f}\", (val_pos,bar_ax), ha=ha,va=va,size=size,\n",
    "                        xytext=xytext, textcoords=textcoords)"
   ]
  },
  {
   "cell_type": "markdown",
   "id": "1fd2efe3",
   "metadata": {},
   "source": [
    "# Load the Data"
   ]
  },
  {
   "cell_type": "code",
   "execution_count": 15,
   "id": "e7f9c28e",
   "metadata": {},
   "outputs": [],
   "source": [
    "#create pandas dataframe\n",
    "filename='Data/sales_predictions - sales_predictions (1).csv'\n",
    "df = pd.read_csv(filename)"
   ]
  },
  {
   "cell_type": "code",
   "execution_count": 16,
   "id": "a3508977",
   "metadata": {},
   "outputs": [
    {
     "data": {
      "text/html": [
       "<div>\n",
       "<style scoped>\n",
       "    .dataframe tbody tr th:only-of-type {\n",
       "        vertical-align: middle;\n",
       "    }\n",
       "\n",
       "    .dataframe tbody tr th {\n",
       "        vertical-align: top;\n",
       "    }\n",
       "\n",
       "    .dataframe thead th {\n",
       "        text-align: right;\n",
       "    }\n",
       "</style>\n",
       "<table border=\"1\" class=\"dataframe\">\n",
       "  <thead>\n",
       "    <tr style=\"text-align: right;\">\n",
       "      <th></th>\n",
       "      <th>Item_Identifier</th>\n",
       "      <th>Item_Weight</th>\n",
       "      <th>Item_Fat_Content</th>\n",
       "      <th>Item_Visibility</th>\n",
       "      <th>Item_Type</th>\n",
       "      <th>Item_MRP</th>\n",
       "      <th>Outlet_Identifier</th>\n",
       "      <th>Outlet_Establishment_Year</th>\n",
       "      <th>Outlet_Size</th>\n",
       "      <th>Outlet_Location_Type</th>\n",
       "      <th>Outlet_Type</th>\n",
       "      <th>Item_Outlet_Sales</th>\n",
       "    </tr>\n",
       "  </thead>\n",
       "  <tbody>\n",
       "    <tr>\n",
       "      <th>0</th>\n",
       "      <td>FDA15</td>\n",
       "      <td>9.30</td>\n",
       "      <td>Low Fat</td>\n",
       "      <td>0.016047</td>\n",
       "      <td>Dairy</td>\n",
       "      <td>249.8092</td>\n",
       "      <td>OUT049</td>\n",
       "      <td>1999</td>\n",
       "      <td>Medium</td>\n",
       "      <td>Tier 1</td>\n",
       "      <td>Supermarket Type1</td>\n",
       "      <td>3735.1380</td>\n",
       "    </tr>\n",
       "    <tr>\n",
       "      <th>1</th>\n",
       "      <td>DRC01</td>\n",
       "      <td>5.92</td>\n",
       "      <td>Regular</td>\n",
       "      <td>0.019278</td>\n",
       "      <td>Soft Drinks</td>\n",
       "      <td>48.2692</td>\n",
       "      <td>OUT018</td>\n",
       "      <td>2009</td>\n",
       "      <td>Medium</td>\n",
       "      <td>Tier 3</td>\n",
       "      <td>Supermarket Type2</td>\n",
       "      <td>443.4228</td>\n",
       "    </tr>\n",
       "    <tr>\n",
       "      <th>2</th>\n",
       "      <td>FDN15</td>\n",
       "      <td>17.50</td>\n",
       "      <td>Low Fat</td>\n",
       "      <td>0.016760</td>\n",
       "      <td>Meat</td>\n",
       "      <td>141.6180</td>\n",
       "      <td>OUT049</td>\n",
       "      <td>1999</td>\n",
       "      <td>Medium</td>\n",
       "      <td>Tier 1</td>\n",
       "      <td>Supermarket Type1</td>\n",
       "      <td>2097.2700</td>\n",
       "    </tr>\n",
       "    <tr>\n",
       "      <th>3</th>\n",
       "      <td>FDX07</td>\n",
       "      <td>19.20</td>\n",
       "      <td>Regular</td>\n",
       "      <td>0.000000</td>\n",
       "      <td>Fruits and Vegetables</td>\n",
       "      <td>182.0950</td>\n",
       "      <td>OUT010</td>\n",
       "      <td>1998</td>\n",
       "      <td>NaN</td>\n",
       "      <td>Tier 3</td>\n",
       "      <td>Grocery Store</td>\n",
       "      <td>732.3800</td>\n",
       "    </tr>\n",
       "    <tr>\n",
       "      <th>4</th>\n",
       "      <td>NCD19</td>\n",
       "      <td>8.93</td>\n",
       "      <td>Low Fat</td>\n",
       "      <td>0.000000</td>\n",
       "      <td>Household</td>\n",
       "      <td>53.8614</td>\n",
       "      <td>OUT013</td>\n",
       "      <td>1987</td>\n",
       "      <td>High</td>\n",
       "      <td>Tier 3</td>\n",
       "      <td>Supermarket Type1</td>\n",
       "      <td>994.7052</td>\n",
       "    </tr>\n",
       "  </tbody>\n",
       "</table>\n",
       "</div>"
      ],
      "text/plain": [
       "  Item_Identifier  Item_Weight Item_Fat_Content  Item_Visibility  \\\n",
       "0           FDA15         9.30          Low Fat         0.016047   \n",
       "1           DRC01         5.92          Regular         0.019278   \n",
       "2           FDN15        17.50          Low Fat         0.016760   \n",
       "3           FDX07        19.20          Regular         0.000000   \n",
       "4           NCD19         8.93          Low Fat         0.000000   \n",
       "\n",
       "               Item_Type  Item_MRP Outlet_Identifier  \\\n",
       "0                  Dairy  249.8092            OUT049   \n",
       "1            Soft Drinks   48.2692            OUT018   \n",
       "2                   Meat  141.6180            OUT049   \n",
       "3  Fruits and Vegetables  182.0950            OUT010   \n",
       "4              Household   53.8614            OUT013   \n",
       "\n",
       "   Outlet_Establishment_Year Outlet_Size Outlet_Location_Type  \\\n",
       "0                       1999      Medium               Tier 1   \n",
       "1                       2009      Medium               Tier 3   \n",
       "2                       1999      Medium               Tier 1   \n",
       "3                       1998         NaN               Tier 3   \n",
       "4                       1987        High               Tier 3   \n",
       "\n",
       "         Outlet_Type  Item_Outlet_Sales  \n",
       "0  Supermarket Type1          3735.1380  \n",
       "1  Supermarket Type2           443.4228  \n",
       "2  Supermarket Type1          2097.2700  \n",
       "3      Grocery Store           732.3800  \n",
       "4  Supermarket Type1           994.7052  "
      ]
     },
     "execution_count": 16,
     "metadata": {},
     "output_type": "execute_result"
    }
   ],
   "source": [
    "## Display the first (5) rows of the dataframe\n",
    "df.head()"
   ]
  },
  {
   "cell_type": "code",
   "execution_count": 17,
   "id": "3a187736",
   "metadata": {
    "scrolled": true
   },
   "outputs": [
    {
     "name": "stdout",
     "output_type": "stream",
     "text": [
      "There are 8523 rows, and 12 columns.\n",
      "The rows represent 8523 observations, and the columns represent 11 features and 1 target variable.\n"
     ]
    }
   ],
   "source": [
    "## Display the number of rows and columns for the dataframe\n",
    "df.shape\n",
    "print(f'There are {df.shape[0]} rows, and {df.shape[1]} columns.')\n",
    "print(f'The rows represent {df.shape[0]} observations, and the columns represent \\\n",
    "{df.shape[1]-1} features and 1 target variable.')"
   ]
  },
  {
   "cell_type": "code",
   "execution_count": 18,
   "id": "a51fccc5",
   "metadata": {},
   "outputs": [
    {
     "name": "stdout",
     "output_type": "stream",
     "text": [
      "<class 'pandas.core.frame.DataFrame'>\n",
      "RangeIndex: 8523 entries, 0 to 8522\n",
      "Data columns (total 12 columns):\n",
      " #   Column                     Non-Null Count  Dtype  \n",
      "---  ------                     --------------  -----  \n",
      " 0   Item_Identifier            8523 non-null   object \n",
      " 1   Item_Weight                7060 non-null   float64\n",
      " 2   Item_Fat_Content           8523 non-null   object \n",
      " 3   Item_Visibility            8523 non-null   float64\n",
      " 4   Item_Type                  8523 non-null   object \n",
      " 5   Item_MRP                   8523 non-null   float64\n",
      " 6   Outlet_Identifier          8523 non-null   object \n",
      " 7   Outlet_Establishment_Year  8523 non-null   int64  \n",
      " 8   Outlet_Size                6113 non-null   object \n",
      " 9   Outlet_Location_Type       8523 non-null   object \n",
      " 10  Outlet_Type                8523 non-null   object \n",
      " 11  Item_Outlet_Sales          8523 non-null   float64\n",
      "dtypes: float64(4), int64(1), object(7)\n",
      "memory usage: 799.2+ KB\n"
     ]
    }
   ],
   "source": [
    "# display info\n",
    "df.info()"
   ]
  },
  {
   "cell_type": "markdown",
   "id": "67098db5",
   "metadata": {},
   "source": [
    "## Prepare the Data"
   ]
  },
  {
   "cell_type": "code",
   "execution_count": 19,
   "id": "fa3fba91",
   "metadata": {},
   "outputs": [
    {
     "data": {
      "text/plain": [
       "Item_Identifier                 0\n",
       "Item_Weight                  1463\n",
       "Item_Fat_Content                0\n",
       "Item_Visibility                 0\n",
       "Item_Type                       0\n",
       "Item_MRP                        0\n",
       "Outlet_Identifier               0\n",
       "Outlet_Establishment_Year       0\n",
       "Outlet_Size                  2410\n",
       "Outlet_Location_Type            0\n",
       "Outlet_Type                     0\n",
       "Item_Outlet_Sales               0\n",
       "dtype: int64"
      ]
     },
     "execution_count": 19,
     "metadata": {},
     "output_type": "execute_result"
    }
   ],
   "source": [
    "# check for missing values\n",
    "df.isna().sum()\n"
   ]
  },
  {
   "cell_type": "code",
   "execution_count": 20,
   "id": "65808795",
   "metadata": {},
   "outputs": [
    {
     "data": {
      "text/plain": [
       "Item_Identifier              1559\n",
       "Item_Weight                   415\n",
       "Item_Fat_Content                5\n",
       "Item_Visibility              7880\n",
       "Item_Type                      16\n",
       "Item_MRP                     5938\n",
       "Outlet_Identifier              10\n",
       "Outlet_Establishment_Year       9\n",
       "Outlet_Size                     3\n",
       "Outlet_Location_Type            3\n",
       "Outlet_Type                     4\n",
       "Item_Outlet_Sales            3493\n",
       "dtype: int64"
      ]
     },
     "execution_count": 20,
     "metadata": {},
     "output_type": "execute_result"
    }
   ],
   "source": [
    "# check for number of unique values in each column\n",
    "df.nunique()"
   ]
  },
  {
   "cell_type": "code",
   "execution_count": 21,
   "id": "7191bc8f",
   "metadata": {
    "scrolled": true
   },
   "outputs": [
    {
     "data": {
      "text/plain": [
       "Low Fat    5517\n",
       "Regular    3006\n",
       "Name: Item_Fat_Content, dtype: int64"
      ]
     },
     "execution_count": 21,
     "metadata": {},
     "output_type": "execute_result"
    }
   ],
   "source": [
    "# Fix the fat content row done in all projects\n",
    "# fix the inconsistencies  in the \"item_Fat_Content\"\n",
    "df['Item_Fat_Content'] = df['Item_Fat_Content'].replace('LF', 'Low Fat')\n",
    "df['Item_Fat_Content'] = df['Item_Fat_Content'].replace('low fat', 'Low Fat')\n",
    "df['Item_Fat_Content'] = df['Item_Fat_Content'].replace('reg', 'Regular')\n",
    "df['Item_Fat_Content'].value_counts()"
   ]
  },
  {
   "cell_type": "markdown",
   "id": "255e6923",
   "metadata": {},
   "source": [
    "## Explore the Data and Visuals"
   ]
  },
  {
   "cell_type": "code",
   "execution_count": 24,
   "id": "477c019c",
   "metadata": {},
   "outputs": [
    {
     "data": {
      "image/png": "[encoded data removed]",
      "text/plain": [
       "<Figure size 600x500 with 2 Axes>"
      ]
     },
     "metadata": {},
     "output_type": "display_data"
    }
   ],
   "source": [
    "#create histogram and boxplot of target\n",
    "target = 'Item_Outlet_Sales'\n",
    "\n",
    "grid_spec = {'height_ratios':[0.8,0.2]}\n",
    "fig, axes = plt.subplots(nrows=2, figsize=(6,5), gridspec_kw=grid_spec)\n",
    "\n",
    "sns.histplot(data=df, x=target,ax=axes[0])\n",
    "sns.boxplot(data=df, x=target, ax=axes[1]);"
   ]
  },
  {
   "cell_type": "markdown",
   "id": "5f50a5a0",
   "metadata": {},
   "source": [
    "# Model validation Split"
   ]
  },
  {
   "cell_type": "code",
   "execution_count": null,
   "id": "8b3f34e6",
   "metadata": {},
   "outputs": [],
   "source": [
    "#Set target\n",
    "target = 'Item_Outlet_Sales'\n",
    "X = df.drop(columns = target)\n",
    "y = food_sales_df[target]\n",
    "\n",
    "## train-test-split with random state for reproducibility\n",
    "X_train, X_test, y_train, y_test = train_test_split(X,y, random_state=SEED)\n",
    "X_train.head()"
   ]
  }
 ],
 "metadata": {
  "kernelspec": {
   "display_name": "Python (dojo-env)",
   "language": "python",
   "name": "dojo-env"
  },
  "language_info": {
   "codemirror_mode": {
    "name": "ipython",
    "version": 3
   },
   "file_extension": ".py",
   "mimetype": "text/x-python",
   "name": "python",
   "nbconvert_exporter": "python",
   "pygments_lexer": "ipython3",
   "version": "3.9.15"
  },
  "toc": {
   "base_numbering": 1,
   "nav_menu": {},
   "number_sections": true,
   "sideBar": true,
   "skip_h1_title": false,
   "title_cell": "Table of Contents",
   "title_sidebar": "Contents",
   "toc_cell": false,
   "toc_position": {},
   "toc_section_display": true,
   "toc_window_display": false
  }
 },
 "nbformat": 4,
 "nbformat_minor": 5
}
