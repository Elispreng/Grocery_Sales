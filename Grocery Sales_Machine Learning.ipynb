{
 "cells": [
  {
   "cell_type": "markdown",
   "id": "48bbe686",
   "metadata": {},
   "source": [
    "# Create Project"
   ]
  },
  {
   "cell_type": "code",
   "execution_count": 1,
   "id": "9570c72b",
   "metadata": {},
   "outputs": [],
   "source": [
    "#import basic Libraries\n",
    "import pandas as pd\n",
    "import numpy as np\n",
    "import matplotlib.pyplot as plt\n",
    "import seaborn as sns\n",
    "\n",
    "## Preprocessing\n",
    "from sklearn.model_selection import train_test_split\n",
    "from sklearn.compose import make_column_selector\n",
    "from sklearn.preprocessing import StandardScaler, OneHotEncoder\n",
    "from sklearn.pipeline import make_pipeline\n",
    "from sklearn.compose import make_column_transformer\n",
    "\n",
    "## Pandas\n",
    "import pandas as pd\n",
    "## Numpy\n",
    "import numpy as np\n",
    "\n",
    "## Preprocessing\n",
    "from sklearn.model_selection import train_test_split\n",
    "from sklearn.compose import make_column_selector\n",
    "from sklearn.preprocessing import StandardScaler, OneHotEncoder\n",
    "from sklearn.pipeline import make_pipeline\n",
    "from sklearn.compose import make_column_transformer\n",
    "\n",
    "## Models\n",
    "from sklearn.dummy import DummyRegressor\n",
    "from sklearn.linear_model import LinearRegression\n",
    "from sklearn.tree import DecisionTreeRegressor\n",
    "from sklearn.ensemble import BaggingRegressor\n",
    "from sklearn.ensemble import RandomForestRegressor\n",
    "from sklearn.neighbors import KNeighborsRegressor\n",
    "from sklearn.linear_model import ElasticNet\n",
    "\n",
    "## Regression Metrics\n",
    "from sklearn.metrics import r2_score\n",
    "from sklearn.metrics import mean_absolute_error\n",
    "from sklearn.metrics import mean_squared_error\n",
    "\n",
    "## Set global scikit-learn configuration \n",
    "from sklearn import set_config\n",
    "\n",
    "## Display estimators as a diagram\n",
    "set_config(display='diagram') # 'text' or 'diagram'}\n"
   ]
  },
  {
   "cell_type": "markdown",
   "id": "ec12edb4",
   "metadata": {},
   "source": [
    "## Functions"
   ]
  },
  {
   "cell_type": "code",
   "execution_count": 2,
   "id": "6d2ef64c",
   "metadata": {},
   "outputs": [],
   "source": [
    "## Create a function to take the true and predicted values\n",
    "## and print MAE, MSE, RMSE, and R2 metrics for a model\n",
    "def model_metrics(pipe, x_train, y_train, x_test, y_test, \n",
    "                       model_name='Regression Model', ):\n",
    "  ## Train\n",
    "  mae = round(mean_absolute_error(y_train, pipe.predict(x_train)),4)\n",
    "  mse = round(mean_squared_error(y_train, pipe.predict(x_train)),4)\n",
    "  rmse = round(np.sqrt(mean_squared_error(y_train, pipe.predict(x_train))),4)\n",
    "  r2 = round(r2_score(y_train, pipe.predict(x_train)),6)\n",
    "  print(f'{model_name} Train Scores')\n",
    "  print(f'MAE: {mae:,.4f} \\nMSE: {mse:,.4f} \\nRMSE: {rmse:,.4f} \\nR2: {r2:.4f}\\n')\n",
    "\n",
    "  ## Test\n",
    "  mae = round(mean_absolute_error(y_test, pipe.predict(x_test)),4)\n",
    "  mse = round(mean_squared_error(y_test, pipe.predict(x_test)),4)\n",
    "  rmse = round(np.sqrt(mean_squared_error(y_test, pipe.predict(x_test))),4)\n",
    "  r2 = round(r2_score(y_test, pipe.predict(x_test)),6)\n",
    "\n",
    "  # Display the metrics for the model\n",
    "  print(f'{model_name} Test Scores')\n",
    "  print(f'MAE: {mae:,.4f} \\nMSE: {mse:,.4f} \\nRMSE: {rmse:,.4f} \\nR2: {r2:.4f}\\n')"
   ]
  },
  {
   "cell_type": "markdown",
   "id": "578883b8",
   "metadata": {},
   "source": [
    "## Load Data"
   ]
  },
  {
   "cell_type": "code",
   "execution_count": 3,
   "id": "58ff6e8e",
   "metadata": {},
   "outputs": [],
   "source": [
    "#create pandas dataframe\n",
    "filename='Data/sales_predictions - sales_predictions (1).csv'\n",
    "df = pd.read_csv(filename)"
   ]
  },
  {
   "cell_type": "code",
   "execution_count": 4,
   "id": "f9bd438d",
   "metadata": {
    "scrolled": true
   },
   "outputs": [
    {
     "data": {
      "text/html": [
       "<div>\n",
       "<style scoped>\n",
       "    .dataframe tbody tr th:only-of-type {\n",
       "        vertical-align: middle;\n",
       "    }\n",
       "\n",
       "    .dataframe tbody tr th {\n",
       "        vertical-align: top;\n",
       "    }\n",
       "\n",
       "    .dataframe thead th {\n",
       "        text-align: right;\n",
       "    }\n",
       "</style>\n",
       "<table border=\"1\" class=\"dataframe\">\n",
       "  <thead>\n",
       "    <tr style=\"text-align: right;\">\n",
       "      <th></th>\n",
       "      <th>Item_Identifier</th>\n",
       "      <th>Item_Weight</th>\n",
       "      <th>Item_Fat_Content</th>\n",
       "      <th>Item_Visibility</th>\n",
       "      <th>Item_Type</th>\n",
       "      <th>Item_MRP</th>\n",
       "      <th>Outlet_Identifier</th>\n",
       "      <th>Outlet_Establishment_Year</th>\n",
       "      <th>Outlet_Size</th>\n",
       "      <th>Outlet_Location_Type</th>\n",
       "      <th>Outlet_Type</th>\n",
       "      <th>Item_Outlet_Sales</th>\n",
       "    </tr>\n",
       "  </thead>\n",
       "  <tbody>\n",
       "    <tr>\n",
       "      <th>0</th>\n",
       "      <td>FDA15</td>\n",
       "      <td>9.30</td>\n",
       "      <td>Low Fat</td>\n",
       "      <td>0.016047</td>\n",
       "      <td>Dairy</td>\n",
       "      <td>249.8092</td>\n",
       "      <td>OUT049</td>\n",
       "      <td>1999</td>\n",
       "      <td>Medium</td>\n",
       "      <td>Tier 1</td>\n",
       "      <td>Supermarket Type1</td>\n",
       "      <td>3735.1380</td>\n",
       "    </tr>\n",
       "    <tr>\n",
       "      <th>1</th>\n",
       "      <td>DRC01</td>\n",
       "      <td>5.92</td>\n",
       "      <td>Regular</td>\n",
       "      <td>0.019278</td>\n",
       "      <td>Soft Drinks</td>\n",
       "      <td>48.2692</td>\n",
       "      <td>OUT018</td>\n",
       "      <td>2009</td>\n",
       "      <td>Medium</td>\n",
       "      <td>Tier 3</td>\n",
       "      <td>Supermarket Type2</td>\n",
       "      <td>443.4228</td>\n",
       "    </tr>\n",
       "    <tr>\n",
       "      <th>2</th>\n",
       "      <td>FDN15</td>\n",
       "      <td>17.50</td>\n",
       "      <td>Low Fat</td>\n",
       "      <td>0.016760</td>\n",
       "      <td>Meat</td>\n",
       "      <td>141.6180</td>\n",
       "      <td>OUT049</td>\n",
       "      <td>1999</td>\n",
       "      <td>Medium</td>\n",
       "      <td>Tier 1</td>\n",
       "      <td>Supermarket Type1</td>\n",
       "      <td>2097.2700</td>\n",
       "    </tr>\n",
       "    <tr>\n",
       "      <th>3</th>\n",
       "      <td>FDX07</td>\n",
       "      <td>19.20</td>\n",
       "      <td>Regular</td>\n",
       "      <td>0.000000</td>\n",
       "      <td>Fruits and Vegetables</td>\n",
       "      <td>182.0950</td>\n",
       "      <td>OUT010</td>\n",
       "      <td>1998</td>\n",
       "      <td>NaN</td>\n",
       "      <td>Tier 3</td>\n",
       "      <td>Grocery Store</td>\n",
       "      <td>732.3800</td>\n",
       "    </tr>\n",
       "    <tr>\n",
       "      <th>4</th>\n",
       "      <td>NCD19</td>\n",
       "      <td>8.93</td>\n",
       "      <td>Low Fat</td>\n",
       "      <td>0.000000</td>\n",
       "      <td>Household</td>\n",
       "      <td>53.8614</td>\n",
       "      <td>OUT013</td>\n",
       "      <td>1987</td>\n",
       "      <td>High</td>\n",
       "      <td>Tier 3</td>\n",
       "      <td>Supermarket Type1</td>\n",
       "      <td>994.7052</td>\n",
       "    </tr>\n",
       "  </tbody>\n",
       "</table>\n",
       "</div>"
      ],
      "text/plain": [
       "  Item_Identifier  Item_Weight Item_Fat_Content  Item_Visibility  \\\n",
       "0           FDA15         9.30          Low Fat         0.016047   \n",
       "1           DRC01         5.92          Regular         0.019278   \n",
       "2           FDN15        17.50          Low Fat         0.016760   \n",
       "3           FDX07        19.20          Regular         0.000000   \n",
       "4           NCD19         8.93          Low Fat         0.000000   \n",
       "\n",
       "               Item_Type  Item_MRP Outlet_Identifier  \\\n",
       "0                  Dairy  249.8092            OUT049   \n",
       "1            Soft Drinks   48.2692            OUT018   \n",
       "2                   Meat  141.6180            OUT049   \n",
       "3  Fruits and Vegetables  182.0950            OUT010   \n",
       "4              Household   53.8614            OUT013   \n",
       "\n",
       "   Outlet_Establishment_Year Outlet_Size Outlet_Location_Type  \\\n",
       "0                       1999      Medium               Tier 1   \n",
       "1                       2009      Medium               Tier 3   \n",
       "2                       1999      Medium               Tier 1   \n",
       "3                       1998         NaN               Tier 3   \n",
       "4                       1987        High               Tier 3   \n",
       "\n",
       "         Outlet_Type  Item_Outlet_Sales  \n",
       "0  Supermarket Type1          3735.1380  \n",
       "1  Supermarket Type2           443.4228  \n",
       "2  Supermarket Type1          2097.2700  \n",
       "3      Grocery Store           732.3800  \n",
       "4  Supermarket Type1           994.7052  "
      ]
     },
     "execution_count": 4,
     "metadata": {},
     "output_type": "execute_result"
    }
   ],
   "source": [
    "## Display the first (5) rows of the dataframe\n",
    "df.head()"
   ]
  },
  {
   "cell_type": "markdown",
   "id": "40d3d23f",
   "metadata": {},
   "source": [
    "- The data has loaded properly."
   ]
  },
  {
   "cell_type": "code",
   "execution_count": 5,
   "id": "6e63be4d",
   "metadata": {},
   "outputs": [
    {
     "name": "stdout",
     "output_type": "stream",
     "text": [
      "There are 8523 rows, and 12 columns.\n",
      "The rows represent 8523 observations, and the columns represent 11 features and 1 target variable.\n"
     ]
    }
   ],
   "source": [
    "## Display the number of rows and columns for the dataframe\n",
    "df.shape\n",
    "print(f'There are {df.shape[0]} rows, and {df.shape[1]} columns.')\n",
    "print(f'The rows represent {df.shape[0]} observations, and the columns represent \\\n",
    "{df.shape[1]-1} features and 1 target variable.')"
   ]
  },
  {
   "cell_type": "code",
   "execution_count": 6,
   "id": "a44576b2",
   "metadata": {},
   "outputs": [
    {
     "data": {
      "text/plain": [
       "Item_Identifier               object\n",
       "Item_Weight                  float64\n",
       "Item_Fat_Content              object\n",
       "Item_Visibility              float64\n",
       "Item_Type                     object\n",
       "Item_MRP                     float64\n",
       "Outlet_Identifier             object\n",
       "Outlet_Establishment_Year      int64\n",
       "Outlet_Size                   object\n",
       "Outlet_Location_Type          object\n",
       "Outlet_Type                   object\n",
       "Item_Outlet_Sales            float64\n",
       "dtype: object"
      ]
     },
     "execution_count": 6,
     "metadata": {},
     "output_type": "execute_result"
    }
   ],
   "source": [
    "## Display the column names and datatypes for each column\n",
    "df.dtypes"
   ]
  },
  {
   "cell_type": "code",
   "execution_count": 7,
   "id": "3277e595",
   "metadata": {},
   "outputs": [
    {
     "name": "stdout",
     "output_type": "stream",
     "text": [
      "<class 'pandas.core.frame.DataFrame'>\n",
      "RangeIndex: 8523 entries, 0 to 8522\n",
      "Data columns (total 12 columns):\n",
      " #   Column                     Non-Null Count  Dtype  \n",
      "---  ------                     --------------  -----  \n",
      " 0   Item_Identifier            8523 non-null   object \n",
      " 1   Item_Weight                7060 non-null   float64\n",
      " 2   Item_Fat_Content           8523 non-null   object \n",
      " 3   Item_Visibility            8523 non-null   float64\n",
      " 4   Item_Type                  8523 non-null   object \n",
      " 5   Item_MRP                   8523 non-null   float64\n",
      " 6   Outlet_Identifier          8523 non-null   object \n",
      " 7   Outlet_Establishment_Year  8523 non-null   int64  \n",
      " 8   Outlet_Size                6113 non-null   object \n",
      " 9   Outlet_Location_Type       8523 non-null   object \n",
      " 10  Outlet_Type                8523 non-null   object \n",
      " 11  Item_Outlet_Sales          8523 non-null   float64\n",
      "dtypes: float64(4), int64(1), object(7)\n",
      "memory usage: 799.2+ KB\n"
     ]
    }
   ],
   "source": [
    "## Display the column names, count of non-null values, and their datatypes\n",
    "df.info()"
   ]
  },
  {
   "cell_type": "code",
   "execution_count": 8,
   "id": "a21ebbed",
   "metadata": {},
   "outputs": [
    {
     "data": {
      "text/html": [
       "<div>\n",
       "<style scoped>\n",
       "    .dataframe tbody tr th:only-of-type {\n",
       "        vertical-align: middle;\n",
       "    }\n",
       "\n",
       "    .dataframe tbody tr th {\n",
       "        vertical-align: top;\n",
       "    }\n",
       "\n",
       "    .dataframe thead th {\n",
       "        text-align: right;\n",
       "    }\n",
       "</style>\n",
       "<table border=\"1\" class=\"dataframe\">\n",
       "  <thead>\n",
       "    <tr style=\"text-align: right;\">\n",
       "      <th></th>\n",
       "      <th>Item_Weight</th>\n",
       "      <th>Item_Visibility</th>\n",
       "      <th>Item_MRP</th>\n",
       "      <th>Outlet_Establishment_Year</th>\n",
       "      <th>Item_Outlet_Sales</th>\n",
       "    </tr>\n",
       "  </thead>\n",
       "  <tbody>\n",
       "    <tr>\n",
       "      <th>count</th>\n",
       "      <td>7060.000000</td>\n",
       "      <td>8523.000000</td>\n",
       "      <td>8523.000000</td>\n",
       "      <td>8523.000000</td>\n",
       "      <td>8523.000000</td>\n",
       "    </tr>\n",
       "    <tr>\n",
       "      <th>mean</th>\n",
       "      <td>12.857645</td>\n",
       "      <td>0.066132</td>\n",
       "      <td>140.992782</td>\n",
       "      <td>1997.831867</td>\n",
       "      <td>2181.288914</td>\n",
       "    </tr>\n",
       "    <tr>\n",
       "      <th>std</th>\n",
       "      <td>4.643456</td>\n",
       "      <td>0.051598</td>\n",
       "      <td>62.275067</td>\n",
       "      <td>8.371760</td>\n",
       "      <td>1706.499616</td>\n",
       "    </tr>\n",
       "    <tr>\n",
       "      <th>min</th>\n",
       "      <td>4.555000</td>\n",
       "      <td>0.000000</td>\n",
       "      <td>31.290000</td>\n",
       "      <td>1985.000000</td>\n",
       "      <td>33.290000</td>\n",
       "    </tr>\n",
       "    <tr>\n",
       "      <th>25%</th>\n",
       "      <td>8.773750</td>\n",
       "      <td>0.026989</td>\n",
       "      <td>93.826500</td>\n",
       "      <td>1987.000000</td>\n",
       "      <td>834.247400</td>\n",
       "    </tr>\n",
       "    <tr>\n",
       "      <th>50%</th>\n",
       "      <td>12.600000</td>\n",
       "      <td>0.053931</td>\n",
       "      <td>143.012800</td>\n",
       "      <td>1999.000000</td>\n",
       "      <td>1794.331000</td>\n",
       "    </tr>\n",
       "    <tr>\n",
       "      <th>75%</th>\n",
       "      <td>16.850000</td>\n",
       "      <td>0.094585</td>\n",
       "      <td>185.643700</td>\n",
       "      <td>2004.000000</td>\n",
       "      <td>3101.296400</td>\n",
       "    </tr>\n",
       "    <tr>\n",
       "      <th>max</th>\n",
       "      <td>21.350000</td>\n",
       "      <td>0.328391</td>\n",
       "      <td>266.888400</td>\n",
       "      <td>2009.000000</td>\n",
       "      <td>13086.964800</td>\n",
       "    </tr>\n",
       "  </tbody>\n",
       "</table>\n",
       "</div>"
      ],
      "text/plain": [
       "       Item_Weight  Item_Visibility     Item_MRP  Outlet_Establishment_Year  \\\n",
       "count  7060.000000      8523.000000  8523.000000                8523.000000   \n",
       "mean     12.857645         0.066132   140.992782                1997.831867   \n",
       "std       4.643456         0.051598    62.275067                   8.371760   \n",
       "min       4.555000         0.000000    31.290000                1985.000000   \n",
       "25%       8.773750         0.026989    93.826500                1987.000000   \n",
       "50%      12.600000         0.053931   143.012800                1999.000000   \n",
       "75%      16.850000         0.094585   185.643700                2004.000000   \n",
       "max      21.350000         0.328391   266.888400                2009.000000   \n",
       "\n",
       "       Item_Outlet_Sales  \n",
       "count        8523.000000  \n",
       "mean         2181.288914  \n",
       "std          1706.499616  \n",
       "min            33.290000  \n",
       "25%           834.247400  \n",
       "50%          1794.331000  \n",
       "75%          3101.296400  \n",
       "max         13086.964800  "
      ]
     },
     "execution_count": 8,
     "metadata": {},
     "output_type": "execute_result"
    }
   ],
   "source": [
    "## Display the descriptive statistics for the numeric columns\n",
    "df.describe(include=\"number\") # or 'object'"
   ]
  },
  {
   "cell_type": "code",
   "execution_count": 9,
   "id": "1aa5681f",
   "metadata": {},
   "outputs": [
    {
     "data": {
      "text/html": [
       "<div>\n",
       "<style scoped>\n",
       "    .dataframe tbody tr th:only-of-type {\n",
       "        vertical-align: middle;\n",
       "    }\n",
       "\n",
       "    .dataframe tbody tr th {\n",
       "        vertical-align: top;\n",
       "    }\n",
       "\n",
       "    .dataframe thead th {\n",
       "        text-align: right;\n",
       "    }\n",
       "</style>\n",
       "<table border=\"1\" class=\"dataframe\">\n",
       "  <thead>\n",
       "    <tr style=\"text-align: right;\">\n",
       "      <th></th>\n",
       "      <th>Item_Identifier</th>\n",
       "      <th>Item_Fat_Content</th>\n",
       "      <th>Item_Type</th>\n",
       "      <th>Outlet_Identifier</th>\n",
       "      <th>Outlet_Size</th>\n",
       "      <th>Outlet_Location_Type</th>\n",
       "      <th>Outlet_Type</th>\n",
       "    </tr>\n",
       "  </thead>\n",
       "  <tbody>\n",
       "    <tr>\n",
       "      <th>count</th>\n",
       "      <td>8523</td>\n",
       "      <td>8523</td>\n",
       "      <td>8523</td>\n",
       "      <td>8523</td>\n",
       "      <td>6113</td>\n",
       "      <td>8523</td>\n",
       "      <td>8523</td>\n",
       "    </tr>\n",
       "    <tr>\n",
       "      <th>unique</th>\n",
       "      <td>1559</td>\n",
       "      <td>5</td>\n",
       "      <td>16</td>\n",
       "      <td>10</td>\n",
       "      <td>3</td>\n",
       "      <td>3</td>\n",
       "      <td>4</td>\n",
       "    </tr>\n",
       "    <tr>\n",
       "      <th>top</th>\n",
       "      <td>FDW13</td>\n",
       "      <td>Low Fat</td>\n",
       "      <td>Fruits and Vegetables</td>\n",
       "      <td>OUT027</td>\n",
       "      <td>Medium</td>\n",
       "      <td>Tier 3</td>\n",
       "      <td>Supermarket Type1</td>\n",
       "    </tr>\n",
       "    <tr>\n",
       "      <th>freq</th>\n",
       "      <td>10</td>\n",
       "      <td>5089</td>\n",
       "      <td>1232</td>\n",
       "      <td>935</td>\n",
       "      <td>2793</td>\n",
       "      <td>3350</td>\n",
       "      <td>5577</td>\n",
       "    </tr>\n",
       "  </tbody>\n",
       "</table>\n",
       "</div>"
      ],
      "text/plain": [
       "       Item_Identifier Item_Fat_Content              Item_Type  \\\n",
       "count             8523             8523                   8523   \n",
       "unique            1559                5                     16   \n",
       "top              FDW13          Low Fat  Fruits and Vegetables   \n",
       "freq                10             5089                   1232   \n",
       "\n",
       "       Outlet_Identifier Outlet_Size Outlet_Location_Type        Outlet_Type  \n",
       "count               8523        6113                 8523               8523  \n",
       "unique                10           3                    3                  4  \n",
       "top               OUT027      Medium               Tier 3  Supermarket Type1  \n",
       "freq                 935        2793                 3350               5577  "
      ]
     },
     "execution_count": 9,
     "metadata": {},
     "output_type": "execute_result"
    }
   ],
   "source": [
    "## Display the descriptive statistics for the non-numeric columns\n",
    "df.describe(exclude=\"number\") # or 'object'"
   ]
  },
  {
   "cell_type": "markdown",
   "id": "a5746261",
   "metadata": {},
   "source": [
    "# Clean the Data"
   ]
  },
  {
   "cell_type": "markdown",
   "id": "a8291fef",
   "metadata": {},
   "source": [
    "- There are no unnecessary rows or columns. "
   ]
  },
  {
   "cell_type": "code",
   "execution_count": 10,
   "id": "70485306",
   "metadata": {},
   "outputs": [
    {
     "name": "stdout",
     "output_type": "stream",
     "text": [
      "There are 0 duplicate rows.\n"
     ]
    }
   ],
   "source": [
    "## Display the number of duplicate rows in the dataset\n",
    "print(f'There are {df.duplicated().sum()} duplicate rows.')"
   ]
  },
  {
   "cell_type": "markdown",
   "id": "a4a64320",
   "metadata": {},
   "source": [
    "## Missing Values"
   ]
  },
  {
   "cell_type": "code",
   "execution_count": 11,
   "id": "e149a3fd",
   "metadata": {
    "scrolled": true
   },
   "outputs": [
    {
     "data": {
      "text/plain": [
       "Item_Identifier                 0\n",
       "Item_Weight                  1463\n",
       "Item_Fat_Content                0\n",
       "Item_Visibility                 0\n",
       "Item_Type                       0\n",
       "Item_MRP                        0\n",
       "Outlet_Identifier               0\n",
       "Outlet_Establishment_Year       0\n",
       "Outlet_Size                  2410\n",
       "Outlet_Location_Type            0\n",
       "Outlet_Type                     0\n",
       "Item_Outlet_Sales               0\n",
       "dtype: int64"
      ]
     },
     "execution_count": 11,
     "metadata": {},
     "output_type": "execute_result"
    }
   ],
   "source": [
    "#check for missing values\n",
    "df.isna().sum()"
   ]
  },
  {
   "cell_type": "code",
   "execution_count": 12,
   "id": "d9abc4a5",
   "metadata": {},
   "outputs": [
    {
     "name": "stdout",
     "output_type": "stream",
     "text": [
      "Item_Identifier               0.000000\n",
      "Item_Weight                  17.165317\n",
      "Item_Fat_Content              0.000000\n",
      "Item_Visibility               0.000000\n",
      "Item_Type                     0.000000\n",
      "Item_MRP                      0.000000\n",
      "Outlet_Identifier             0.000000\n",
      "Outlet_Establishment_Year     0.000000\n",
      "Outlet_Size                  28.276428\n",
      "Outlet_Location_Type          0.000000\n",
      "Outlet_Type                   0.000000\n",
      "Item_Outlet_Sales             0.000000\n",
      "dtype: float64\n"
     ]
    }
   ],
   "source": [
    "## Display the percentage of missing values by column\n",
    "print(df.isna().sum()/len(df)*100)"
   ]
  },
  {
   "cell_type": "markdown",
   "id": "4d066488",
   "metadata": {},
   "source": [
    "## Check column data types"
   ]
  },
  {
   "cell_type": "code",
   "execution_count": 13,
   "id": "4f47f7af",
   "metadata": {
    "scrolled": true
   },
   "outputs": [
    {
     "data": {
      "text/plain": [
       "Item_Identifier               object\n",
       "Item_Weight                  float64\n",
       "Item_Fat_Content              object\n",
       "Item_Visibility              float64\n",
       "Item_Type                     object\n",
       "Item_MRP                     float64\n",
       "Outlet_Identifier             object\n",
       "Outlet_Establishment_Year      int64\n",
       "Outlet_Size                   object\n",
       "Outlet_Location_Type          object\n",
       "Outlet_Type                   object\n",
       "Item_Outlet_Sales            float64\n",
       "dtype: object"
      ]
     },
     "execution_count": 13,
     "metadata": {},
     "output_type": "execute_result"
    }
   ],
   "source": [
    "## Display column names and datatypes\n",
    "df.dtypes"
   ]
  },
  {
   "cell_type": "markdown",
   "id": "3cd394d2",
   "metadata": {},
   "source": [
    "- All columns appear to have the correct data types"
   ]
  },
  {
   "cell_type": "code",
   "execution_count": 14,
   "id": "cc72a4e3",
   "metadata": {},
   "outputs": [
    {
     "data": {
      "text/plain": [
       "Index(['Item_Identifier', 'Item_Weight', 'Item_Fat_Content', 'Item_Visibility',\n",
       "       'Item_Type', 'Item_MRP', 'Outlet_Identifier',\n",
       "       'Outlet_Establishment_Year', 'Outlet_Size', 'Outlet_Location_Type',\n",
       "       'Outlet_Type', 'Item_Outlet_Sales'],\n",
       "      dtype='object')"
      ]
     },
     "execution_count": 14,
     "metadata": {},
     "output_type": "execute_result"
    }
   ],
   "source": [
    "## Display column names\n",
    "df.columns"
   ]
  },
  {
   "cell_type": "markdown",
   "id": "45d7e283",
   "metadata": {},
   "source": [
    "- All columns appear to have the correct names."
   ]
  },
  {
   "cell_type": "code",
   "execution_count": 15,
   "id": "13da4bb5",
   "metadata": {},
   "outputs": [
    {
     "data": {
      "text/html": [
       "<div>\n",
       "<style scoped>\n",
       "    .dataframe tbody tr th:only-of-type {\n",
       "        vertical-align: middle;\n",
       "    }\n",
       "\n",
       "    .dataframe tbody tr th {\n",
       "        vertical-align: top;\n",
       "    }\n",
       "\n",
       "    .dataframe thead th {\n",
       "        text-align: right;\n",
       "    }\n",
       "</style>\n",
       "<table border=\"1\" class=\"dataframe\">\n",
       "  <thead>\n",
       "    <tr style=\"text-align: right;\">\n",
       "      <th></th>\n",
       "      <th>Item_Weight</th>\n",
       "      <th>Item_Visibility</th>\n",
       "      <th>Item_MRP</th>\n",
       "      <th>Outlet_Establishment_Year</th>\n",
       "      <th>Item_Outlet_Sales</th>\n",
       "    </tr>\n",
       "  </thead>\n",
       "  <tbody>\n",
       "    <tr>\n",
       "      <th>count</th>\n",
       "      <td>7060.000000</td>\n",
       "      <td>8523.000000</td>\n",
       "      <td>8523.000000</td>\n",
       "      <td>8523.000000</td>\n",
       "      <td>8523.000000</td>\n",
       "    </tr>\n",
       "    <tr>\n",
       "      <th>mean</th>\n",
       "      <td>12.857645</td>\n",
       "      <td>0.066132</td>\n",
       "      <td>140.992782</td>\n",
       "      <td>1997.831867</td>\n",
       "      <td>2181.288914</td>\n",
       "    </tr>\n",
       "    <tr>\n",
       "      <th>std</th>\n",
       "      <td>4.643456</td>\n",
       "      <td>0.051598</td>\n",
       "      <td>62.275067</td>\n",
       "      <td>8.371760</td>\n",
       "      <td>1706.499616</td>\n",
       "    </tr>\n",
       "    <tr>\n",
       "      <th>min</th>\n",
       "      <td>4.555000</td>\n",
       "      <td>0.000000</td>\n",
       "      <td>31.290000</td>\n",
       "      <td>1985.000000</td>\n",
       "      <td>33.290000</td>\n",
       "    </tr>\n",
       "    <tr>\n",
       "      <th>25%</th>\n",
       "      <td>8.773750</td>\n",
       "      <td>0.026989</td>\n",
       "      <td>93.826500</td>\n",
       "      <td>1987.000000</td>\n",
       "      <td>834.247400</td>\n",
       "    </tr>\n",
       "    <tr>\n",
       "      <th>50%</th>\n",
       "      <td>12.600000</td>\n",
       "      <td>0.053931</td>\n",
       "      <td>143.012800</td>\n",
       "      <td>1999.000000</td>\n",
       "      <td>1794.331000</td>\n",
       "    </tr>\n",
       "    <tr>\n",
       "      <th>75%</th>\n",
       "      <td>16.850000</td>\n",
       "      <td>0.094585</td>\n",
       "      <td>185.643700</td>\n",
       "      <td>2004.000000</td>\n",
       "      <td>3101.296400</td>\n",
       "    </tr>\n",
       "    <tr>\n",
       "      <th>max</th>\n",
       "      <td>21.350000</td>\n",
       "      <td>0.328391</td>\n",
       "      <td>266.888400</td>\n",
       "      <td>2009.000000</td>\n",
       "      <td>13086.964800</td>\n",
       "    </tr>\n",
       "  </tbody>\n",
       "</table>\n",
       "</div>"
      ],
      "text/plain": [
       "       Item_Weight  Item_Visibility     Item_MRP  Outlet_Establishment_Year  \\\n",
       "count  7060.000000      8523.000000  8523.000000                8523.000000   \n",
       "mean     12.857645         0.066132   140.992782                1997.831867   \n",
       "std       4.643456         0.051598    62.275067                   8.371760   \n",
       "min       4.555000         0.000000    31.290000                1985.000000   \n",
       "25%       8.773750         0.026989    93.826500                1987.000000   \n",
       "50%      12.600000         0.053931   143.012800                1999.000000   \n",
       "75%      16.850000         0.094585   185.643700                2004.000000   \n",
       "max      21.350000         0.328391   266.888400                2009.000000   \n",
       "\n",
       "       Item_Outlet_Sales  \n",
       "count        8523.000000  \n",
       "mean         2181.288914  \n",
       "std          1706.499616  \n",
       "min            33.290000  \n",
       "25%           834.247400  \n",
       "50%          1794.331000  \n",
       "75%          3101.296400  \n",
       "max         13086.964800  "
      ]
     },
     "execution_count": 15,
     "metadata": {},
     "output_type": "execute_result"
    }
   ],
   "source": [
    "## Display the descriptive statistics for the non-numeric columns\n",
    "df.describe(include=\"number\")"
   ]
  },
  {
   "cell_type": "code",
   "execution_count": 16,
   "id": "f3b120b3",
   "metadata": {},
   "outputs": [
    {
     "name": "stdout",
     "output_type": "stream",
     "text": [
      "Unique Fat Content:\n",
      " ['Low Fat' 'Regular' 'low fat' 'LF' 'reg']\n",
      "\n",
      "\n",
      "Unique Item Type:\n",
      " ['Dairy' 'Soft Drinks' 'Meat' 'Fruits and Vegetables' 'Household'\n",
      " 'Baking Goods' 'Snack Foods' 'Frozen Foods' 'Breakfast'\n",
      " 'Health and Hygiene' 'Hard Drinks' 'Canned' 'Breads' 'Starchy Foods'\n",
      " 'Others' 'Seafood']\n",
      "\n",
      "\n",
      "Unique Location:\n",
      " ['Tier 1' 'Tier 3' 'Tier 2']\n",
      "\n",
      "\n",
      "Unique Outlet Type:\n",
      " ['Supermarket Type1' 'Supermarket Type2' 'Grocery Store'\n",
      " 'Supermarket Type3']\n",
      "\n",
      "\n",
      "Unique Outlet:\n",
      " ['OUT049' 'OUT018' 'OUT010' 'OUT013' 'OUT027' 'OUT045' 'OUT017' 'OUT046'\n",
      " 'OUT035' 'OUT019']\n",
      "\n",
      "\n",
      "Unique Outlet Size:\n",
      " ['Medium' nan 'High' 'Small']\n",
      "\n",
      "\n"
     ]
    }
   ],
   "source": [
    "## Print the unique values for the column\n",
    "print('Unique Fat Content:\\n', df['Item_Fat_Content'].unique())\n",
    "print('\\n')\n",
    "## Print the unique values for the column\n",
    "print('Unique Item Type:\\n', df['Item_Type'].unique())\n",
    "print('\\n')\n",
    "## Print the unique values for the column\n",
    "print('Unique Location:\\n', df['Outlet_Location_Type'].unique())\n",
    "print('\\n')\n",
    "## Print the unique values for the column\n",
    "print('Unique Outlet Type:\\n', df['Outlet_Type'].unique())\n",
    "print('\\n')\n",
    "## Print the unique values for the column\n",
    "print('Unique Outlet:\\n', df['Outlet_Identifier'].unique())\n",
    "print('\\n')\n",
    "## Print the unique values for the column\n",
    "print('Unique Outlet Size:\\n', df['Outlet_Size'].unique())\n",
    "print('\\n')"
   ]
  },
  {
   "cell_type": "markdown",
   "id": "e7c41b6c",
   "metadata": {},
   "source": [
    "- Before test/train split need to address Fat Content values.\n",
    "- No other values need to be addressed"
   ]
  },
  {
   "cell_type": "code",
   "execution_count": 17,
   "id": "faa3f08d",
   "metadata": {},
   "outputs": [
    {
     "data": {
      "text/plain": [
       "Low Fat    5517\n",
       "Regular    3006\n",
       "Name: Item_Fat_Content, dtype: int64"
      ]
     },
     "execution_count": 17,
     "metadata": {},
     "output_type": "execute_result"
    }
   ],
   "source": [
    "# fix the inconsistencies\n",
    "df['Item_Fat_Content'] = df['Item_Fat_Content'].replace('LF', 'Low Fat')\n",
    "df['Item_Fat_Content'] = df['Item_Fat_Content'].replace('low fat', 'Low Fat')\n",
    "df['Item_Fat_Content'] = df['Item_Fat_Content'].replace('reg', 'Regular')\n",
    "#check the column\n",
    "df['Item_Fat_Content'].value_counts()"
   ]
  },
  {
   "cell_type": "markdown",
   "id": "0c72ee47",
   "metadata": {},
   "source": [
    "# Split the Data"
   ]
  },
  {
   "cell_type": "markdown",
   "id": "26a835fc",
   "metadata": {},
   "source": [
    "## Define Target and Split"
   ]
  },
  {
   "cell_type": "code",
   "execution_count": 18,
   "id": "8b72d0c1",
   "metadata": {},
   "outputs": [],
   "source": [
    "# #define X and y\n",
    "target = 'Item_Outlet_Sales'\n",
    "X = df.drop(columns = target)\n",
    "y = df[target]"
   ]
  },
  {
   "cell_type": "code",
   "execution_count": 19,
   "id": "47dcfcef",
   "metadata": {},
   "outputs": [],
   "source": [
    "## Split\n",
    "X_train, X_test, y_train, y_test = train_test_split(X, y, random_state=42)"
   ]
  },
  {
   "cell_type": "markdown",
   "id": "085db015",
   "metadata": {},
   "source": [
    "## Prepare the  Data"
   ]
  },
  {
   "cell_type": "markdown",
   "id": "fa712bf8",
   "metadata": {},
   "source": [
    "### Identify Types"
   ]
  },
  {
   "cell_type": "markdown",
   "id": "58bac2cc",
   "metadata": {},
   "source": [
    "**Ordinal:** None\n",
    "\n",
    "**Numeric:** 'year,\t'item sales', 'item weight','MRP',\t'item visibility', 'item id'\n",
    "\n",
    "**Nominal:** 'outlet size', 'Location', 'outlet size'\n",
    "\n",
    "**Categorical:** 'fat content', 'outlet type', 'item type'"
   ]
  },
  {
   "cell_type": "markdown",
   "id": "85e88231",
   "metadata": {},
   "source": [
    "### Imputers\n",
    "- need to impute missing values"
   ]
  },
  {
   "cell_type": "code",
   "execution_count": 21,
   "id": "1ddc78d7",
   "metadata": {},
   "outputs": [
    {
     "ename": "NameError",
     "evalue": "name 'SimpleImputer' is not defined",
     "output_type": "error",
     "traceback": [
      "\u001b[1;31m---------------------------------------------------------------------------\u001b[0m",
      "\u001b[1;31mNameError\u001b[0m                                 Traceback (most recent call last)",
      "Cell \u001b[1;32mIn [21], line 5\u001b[0m\n\u001b[0;32m      2\u001b[0m scaler \u001b[38;5;241m=\u001b[39m StandardScaler()\n\u001b[0;32m      3\u001b[0m ohe \u001b[38;5;241m=\u001b[39m OneHotEncoder(sparse \u001b[38;5;241m=\u001b[39m \u001b[38;5;28;01mFalse\u001b[39;00m, handle_unknown\u001b[38;5;241m=\u001b[39m \u001b[38;5;124m'\u001b[39m\u001b[38;5;124mignore\u001b[39m\u001b[38;5;124m'\u001b[39m)\n\u001b[1;32m----> 5\u001b[0m freq_imputer \u001b[38;5;241m=\u001b[39m \u001b[43mSimpleImputer\u001b[49m(strategy\u001b[38;5;241m=\u001b[39m\u001b[38;5;124m'\u001b[39m\u001b[38;5;124mmost_frequent\u001b[39m\u001b[38;5;124m'\u001b[39m)\n\u001b[0;32m      6\u001b[0m mean_imputer \u001b[38;5;241m=\u001b[39m SimpleImputer(strategy\u001b[38;5;241m=\u001b[39m\u001b[38;5;124m'\u001b[39m\u001b[38;5;124mmean\u001b[39m\u001b[38;5;124m'\u001b[39m)\n",
      "\u001b[1;31mNameError\u001b[0m: name 'SimpleImputer' is not defined"
     ]
    }
   ],
   "source": [
    "# instantiate the Standard Scaler and Imputers\n",
    "scaler = StandardScaler()\n",
    "ohe = OneHotEncoder(sparse = False, handle_unknown= 'ignore')\n",
    "\n",
    "freq_imputer = SimpleImputer(strategy='most_frequent')\n",
    "mean_imputer = SimpleImputer(strategy='mean')"
   ]
  },
  {
   "cell_type": "markdown",
   "id": "835a2e64",
   "metadata": {},
   "source": [
    "### Column Selector"
   ]
  },
  {
   "cell_type": "code",
   "execution_count": null,
   "id": "725f10b3",
   "metadata": {},
   "outputs": [],
   "source": [
    "## Instantiate the column selectors\n",
    "num_selector = make_column_selector(dtype_include='number')\n",
    "cat_selector = make_column_selector(dtype_include='object')"
   ]
  },
  {
   "cell_type": "markdown",
   "id": "2b1d3043",
   "metadata": {},
   "source": [
    "### Create pipelines"
   ]
  },
  {
   "cell_type": "code",
   "execution_count": null,
   "id": "16b0b5ab",
   "metadata": {},
   "outputs": [],
   "source": []
  },
  {
   "cell_type": "code",
   "execution_count": null,
   "id": "1960bbae",
   "metadata": {},
   "outputs": [],
   "source": [
    "# Numeric pipeline\n",
    "numeric_pipe = make_pipeline(mean_imputer, scaler)\n",
    "numeric_pipe\n",
    "# Categorical pipeline\n",
    "categorical_pipe = make_pipeline(freq_imputer, ohe)\n",
    "categorical_pipe"
   ]
  },
  {
   "cell_type": "markdown",
   "id": "cb19dae3",
   "metadata": {},
   "source": [
    "### Create Tuples"
   ]
  },
  {
   "cell_type": "code",
   "execution_count": null,
   "id": "f70bc5ac",
   "metadata": {},
   "outputs": [],
   "source": [
    "# Tuples for Column Transformer\n",
    "number_tuple = (numeric_pipe, num_selector)\n",
    "category_tuple = (categorical_pipe, cat_selector)"
   ]
  },
  {
   "cell_type": "markdown",
   "id": "8b3df0ea",
   "metadata": {},
   "source": [
    "### Column Transformer"
   ]
  },
  {
   "cell_type": "code",
   "execution_count": null,
   "id": "63c49216",
   "metadata": {},
   "outputs": [],
   "source": [
    "## Create the preprocessor using make_column_transformer\n",
    "preprocessor = make_column_transformer(number_tuple, \n",
    "                                       category_tuple, \n",
    "                                       remainder='drop')"
   ]
  },
  {
   "cell_type": "markdown",
   "id": "6082ac01",
   "metadata": {},
   "source": [
    "# Create Models"
   ]
  },
  {
   "cell_type": "markdown",
   "id": "7d59c86f",
   "metadata": {},
   "source": [
    "## Baseline Model: Dummy Regressor"
   ]
  },
  {
   "cell_type": "code",
   "execution_count": null,
   "id": "02dac5d8",
   "metadata": {
    "scrolled": true
   },
   "outputs": [],
   "source": [
    "## Create an instance of the model\n",
    "dummy = DummyRegressor(strategy='mean')\n",
    "\n",
    "## Create a model pipeline\n",
    "dummy_pipe = make_pipeline(preprocessor, dummy)\n",
    "\n",
    "## Fit the model\n",
    "dummy_pipe.fit(X_train, y_train)"
   ]
  },
  {
   "cell_type": "code",
   "execution_count": null,
   "id": "816024a6",
   "metadata": {
    "scrolled": true
   },
   "outputs": [],
   "source": [
    "## Display model performance metrics using a function\n",
    "model_metrics(dummy_pipe, x_train=X_train, y_train=y_train, \n",
    "                          x_test=X_test, y_test=y_test, \n",
    "                           model_name='Dummy Model')"
   ]
  },
  {
   "cell_type": "markdown",
   "id": "afa88ac4",
   "metadata": {},
   "source": [
    "## Linear Regression Model"
   ]
  },
  {
   "cell_type": "code",
   "execution_count": null,
   "id": "c50a6343",
   "metadata": {},
   "outputs": [],
   "source": [
    "## Create an instance of the model\n",
    "lin_reg = LinearRegression()\n",
    "\n",
    "## Create a model pipeline\n",
    "lin_reg_pipe = make_pipeline(preprocessor, lin_reg)\n",
    "\n",
    "## Fit the model\n",
    "lin_reg_pipe.fit(X_train, y_train)"
   ]
  },
  {
   "cell_type": "code",
   "execution_count": null,
   "id": "c41a0ae9",
   "metadata": {},
   "outputs": [],
   "source": [
    "# Make predictions using the training and testing data\n",
    "training_predictions = lin_reg_pipe.predict(X_train)\n",
    "test_predictions = lin_reg_pipe.predict(X_test)\n",
    "training_predictions[:10]"
   ]
  },
  {
   "cell_type": "code",
   "execution_count": null,
   "id": "eec53ff8",
   "metadata": {},
   "outputs": [],
   "source": [
    "#calculating R-squared\n",
    "train_r2 = np.corrcoef(y_train, training_predictions)[0][1]**2\n",
    "test_r2 = np.corrcoef(y_test, test_predictions)[0][1]**2\n",
    "\n",
    "print(f'Model Training R2: {train_r2}')\n",
    "print(f'Model Testing R2: {test_r2}')"
   ]
  },
  {
   "cell_type": "code",
   "execution_count": null,
   "id": "2b25a840",
   "metadata": {},
   "outputs": [],
   "source": [
    "## Display model performance metrics using a function\n",
    "model_metrics(lin_reg_pipe, x_train=X_train, y_train=y_train, \n",
    "                          x_test=X_test, y_test=y_test, \n",
    "                           model_name='Linear Regression')"
   ]
  },
  {
   "cell_type": "markdown",
   "id": "1088989d",
   "metadata": {},
   "source": [
    "## Decision Tree Regressor"
   ]
  },
  {
   "cell_type": "code",
   "execution_count": null,
   "id": "818eca58",
   "metadata": {},
   "outputs": [],
   "source": [
    "## Create an instance of the model\n",
    "dec_tree = DecisionTreeRegressor()\n",
    "\n",
    "## Create a model pipeline\n",
    "dec_tree_pipe = make_pipeline(preprocessor, dec_tree)\n",
    "\n",
    "## Fit the model\n",
    "dec_tree_pipe.fit(X_train, y_train)"
   ]
  },
  {
   "cell_type": "code",
   "execution_count": null,
   "id": "097158bb",
   "metadata": {},
   "outputs": [],
   "source": [
    "## Display model performance metrics using a function\n",
    "model_metrics(dec_tree_pipe, x_train=X_train, y_train=y_train, \n",
    "                          x_test=X_test, y_test=y_test, \n",
    "                           model_name='Decision Tree Model')"
   ]
  },
  {
   "cell_type": "markdown",
   "id": "263bcdc9",
   "metadata": {},
   "source": [
    "## Bagged Tree Regressor"
   ]
  },
  {
   "cell_type": "code",
   "execution_count": null,
   "id": "e810fbc0",
   "metadata": {},
   "outputs": [],
   "source": [
    "# Create an instance of the model\n",
    "bag_tree = BaggingRegressor()\n",
    "\n",
    "# Create a model pipeline\n",
    "bag_tree_pipe = make_pipeline(preprocessor, bag_tree)\n",
    "\n",
    "# Fit the model\n",
    "bag_tree_pipe.fit(X_train, y_train)"
   ]
  },
  {
   "cell_type": "code",
   "execution_count": null,
   "id": "8aed91e6",
   "metadata": {},
   "outputs": [],
   "source": [
    "## Display model performance metrics using a function\n",
    "model_metrics(bag_tree_pipe, x_train=X_train, y_train=y_train, \n",
    "                          x_test=X_test, y_test=y_test, \n",
    "                           model_name='Bagged Tree Model')"
   ]
  },
  {
   "cell_type": "markdown",
   "id": "82850c2f",
   "metadata": {},
   "source": [
    "## Random Forest Regressor"
   ]
  },
  {
   "cell_type": "code",
   "execution_count": null,
   "id": "2a44abff",
   "metadata": {},
   "outputs": [],
   "source": [
    "## Create an instance of the model\n",
    "ran_for = RandomForestRegressor()\n",
    "\n",
    "## Create a model pipeline\n",
    "ran_for_pipe = make_pipeline(preprocessor, ran_for)\n",
    "\n",
    "## Fit the model\n",
    "ran_for_pipe.fit(X_train, y_train)"
   ]
  },
  {
   "cell_type": "code",
   "execution_count": null,
   "id": "8176cb39",
   "metadata": {},
   "outputs": [],
   "source": [
    "## Display model performance metrics using a function\n",
    "model_metrics(ran_for_pipe, x_train=X_train, y_train=y_train, \n",
    "                          x_test=X_test, y_test=y_test, \n",
    "                           model_name='Random Forest Model')"
   ]
  },
  {
   "cell_type": "markdown",
   "id": "ce62cd4c",
   "metadata": {},
   "source": [
    "## K Neighbors Regressor"
   ]
  },
  {
   "cell_type": "code",
   "execution_count": null,
   "id": "fd77d670",
   "metadata": {},
   "outputs": [],
   "source": [
    "## Create an instance of the model\n",
    "knn = KNeighborsRegressor()\n",
    "\n",
    "## Create a model pipeline\n",
    "knn_pipe = make_pipeline(preprocessor, knn)\n",
    "\n",
    "## Fit the model\n",
    "knn_pipe.fit(X_train, y_train)"
   ]
  },
  {
   "cell_type": "code",
   "execution_count": null,
   "id": "f2ab2cc6",
   "metadata": {},
   "outputs": [],
   "source": [
    "## Display model performance metrics using a function\n",
    "model_metrics(knn_pipe, x_train=X_train, y_train=y_train, \n",
    "                          x_test=X_test, y_test=y_test, \n",
    "                           model_name='K-Nearest Neighbors Model')\n"
   ]
  },
  {
   "cell_type": "markdown",
   "id": "d0015864",
   "metadata": {},
   "source": [
    "## Elastic Net"
   ]
  },
  {
   "cell_type": "code",
   "execution_count": null,
   "id": "700d495d",
   "metadata": {},
   "outputs": [],
   "source": [
    "## Create an instance of the model\n",
    "ela_net = ElasticNet()\n",
    "\n",
    "## Create a model pipeline\n",
    "ela_net_pipe = make_pipeline(preprocessor, ela_net)\n",
    "\n",
    "## Fit the model\n",
    "ela_net_pipe.fit(X_train, y_train)"
   ]
  },
  {
   "cell_type": "code",
   "execution_count": null,
   "id": "184079ac",
   "metadata": {},
   "outputs": [],
   "source": [
    "## Display model performance metrics using a function\n",
    "model_metrics(ela_net_pipe, x_train=X_train, y_train=y_train, \n",
    "                          x_test=X_test, y_test=y_test, \n",
    "                           model_name='Elastic Net Model')"
   ]
  },
  {
   "cell_type": "markdown",
   "id": "d077e7e2",
   "metadata": {},
   "source": [
    "# Recommendations"
   ]
  },
  {
   "cell_type": "markdown",
   "id": "494ec14b",
   "metadata": {},
   "source": [
    "**Model recommended:** Random Forest\n",
    "\n",
    "- It had the lowest error scores for MAE, MSE and RMSE, and it had the hightest R2 on the Test dataset.\n",
    "\n",
    "**Random Forest Model Test Scores**\n",
    "- MAE: 776.0182 \n",
    "- MSE: 1,253,923.2481 \n",
    "- RMSE: 1,119.7871 \n",
    "- R2: 0.5455\n"
   ]
  }
 ],
 "metadata": {
  "kernelspec": {
   "display_name": "Python (dojo-env)",
   "language": "python",
   "name": "dojo-env"
  },
  "language_info": {
   "codemirror_mode": {
    "name": "ipython",
    "version": 3
   },
   "file_extension": ".py",
   "mimetype": "text/x-python",
   "name": "python",
   "nbconvert_exporter": "python",
   "pygments_lexer": "ipython3",
   "version": "3.9.15"
  },
  "toc": {
   "base_numbering": 1,
   "nav_menu": {},
   "number_sections": true,
   "sideBar": true,
   "skip_h1_title": false,
   "title_cell": "Table of Contents",
   "title_sidebar": "Contents",
   "toc_cell": false,
   "toc_position": {},
   "toc_section_display": true,
   "toc_window_display": true
  }
 },
 "nbformat": 4,
 "nbformat_minor": 5
}
