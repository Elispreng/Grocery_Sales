{
 "cells": [
  {
   "cell_type": "markdown",
   "id": "972af5f3",
   "metadata": {},
   "source": [
    "# Create Project"
   ]
  },
  {
   "cell_type": "code",
   "execution_count": 6,
   "id": "da405c03",
   "metadata": {},
   "outputs": [],
   "source": [
    "#import basic Libraries\n",
    "import pandas as pd\n",
    "import numpy as np\n",
    "import matplotlib.pyplot as plt\n",
    "import seaborn as sns"
   ]
  },
  {
   "cell_type": "code",
   "execution_count": null,
   "id": "b84701f7",
   "metadata": {},
   "outputs": [],
   "source": []
  },
  {
   "cell_type": "code",
   "execution_count": null,
   "id": "5b6e1d85",
   "metadata": {},
   "outputs": [],
   "source": []
  },
  {
   "cell_type": "markdown",
   "id": "22778689",
   "metadata": {},
   "source": [
    "## Load the Data"
   ]
  },
  {
   "cell_type": "code",
   "execution_count": 3,
   "id": "32bdd67b",
   "metadata": {},
   "outputs": [],
   "source": [
    "#create pandas dataframe\n",
    "filename='Data/sales_predictions - sales_predictions (1).csv'\n",
    "df = pd.read_csv(filename)\n"
   ]
  },
  {
   "cell_type": "markdown",
   "id": "27b6bcdb",
   "metadata": {},
   "source": [
    "## Initial Data Inspection"
   ]
  },
  {
   "cell_type": "code",
   "execution_count": 4,
   "id": "8997bd97",
   "metadata": {},
   "outputs": [
    {
     "name": "stdout",
     "output_type": "stream",
     "text": [
      "<class 'pandas.core.frame.DataFrame'>\n",
      "RangeIndex: 8523 entries, 0 to 8522\n",
      "Data columns (total 12 columns):\n",
      " #   Column                     Non-Null Count  Dtype  \n",
      "---  ------                     --------------  -----  \n",
      " 0   Item_Identifier            8523 non-null   object \n",
      " 1   Item_Weight                7060 non-null   float64\n",
      " 2   Item_Fat_Content           8523 non-null   object \n",
      " 3   Item_Visibility            8523 non-null   float64\n",
      " 4   Item_Type                  8523 non-null   object \n",
      " 5   Item_MRP                   8523 non-null   float64\n",
      " 6   Outlet_Identifier          8523 non-null   object \n",
      " 7   Outlet_Establishment_Year  8523 non-null   int64  \n",
      " 8   Outlet_Size                6113 non-null   object \n",
      " 9   Outlet_Location_Type       8523 non-null   object \n",
      " 10  Outlet_Type                8523 non-null   object \n",
      " 11  Item_Outlet_Sales          8523 non-null   float64\n",
      "dtypes: float64(4), int64(1), object(7)\n",
      "memory usage: 799.2+ KB\n"
     ]
    }
   ],
   "source": [
    "#look at column ypes and datagrame head\n",
    "df.head()\n",
    "df.info()\n"
   ]
  },
  {
   "cell_type": "code",
   "execution_count": 8,
   "id": "d6fef782",
   "metadata": {
    "scrolled": true
   },
   "outputs": [
    {
     "data": {
      "text/plain": [
       "(8523, 12)"
      ]
     },
     "execution_count": 8,
     "metadata": {},
     "output_type": "execute_result"
    }
   ],
   "source": [
    "# check for rows and columns\n",
    "df.shape\n"
   ]
  },
  {
   "cell_type": "markdown",
   "id": "ef01274d",
   "metadata": {},
   "source": [
    "- There are 12 columns and 8,523 rows\n",
    "- There is missing data in Item Weight and Outlet Size. "
   ]
  },
  {
   "cell_type": "markdown",
   "id": "95bee88d",
   "metadata": {},
   "source": [
    "# Initial Data Preparation and Cleaning"
   ]
  },
  {
   "cell_type": "markdown",
   "id": "c4cf87fa",
   "metadata": {},
   "source": [
    "## Duplicated Values"
   ]
  },
  {
   "cell_type": "code",
   "execution_count": 11,
   "id": "ab566120",
   "metadata": {},
   "outputs": [
    {
     "data": {
      "text/plain": [
       "0"
      ]
     },
     "execution_count": 11,
     "metadata": {},
     "output_type": "execute_result"
    }
   ],
   "source": [
    "# check for duplicates\n",
    "df.duplicated().sum()"
   ]
  },
  {
   "cell_type": "markdown",
   "id": "b28704ef",
   "metadata": {},
   "source": [
    "- There are no duplicated values. "
   ]
  },
  {
   "cell_type": "markdown",
   "id": "a5a9707c",
   "metadata": {},
   "source": [
    "## Missing Values"
   ]
  },
  {
   "cell_type": "code",
   "execution_count": 13,
   "id": "74656e41",
   "metadata": {},
   "outputs": [
    {
     "data": {
      "text/plain": [
       "Item_Identifier                 0\n",
       "Item_Weight                  1463\n",
       "Item_Fat_Content                0\n",
       "Item_Visibility                 0\n",
       "Item_Type                       0\n",
       "Item_MRP                        0\n",
       "Outlet_Identifier               0\n",
       "Outlet_Establishment_Year       0\n",
       "Outlet_Size                  2410\n",
       "Outlet_Location_Type            0\n",
       "Outlet_Type                     0\n",
       "Item_Outlet_Sales               0\n",
       "dtype: int64"
      ]
     },
     "execution_count": 13,
     "metadata": {},
     "output_type": "execute_result"
    }
   ],
   "source": [
    "#identify missing data\n",
    "df.isna().sum()"
   ]
  },
  {
   "cell_type": "code",
   "execution_count": 14,
   "id": "b64a2083",
   "metadata": {},
   "outputs": [],
   "source": [
    "# there is missing data in \"Item_weight\" and \"Outlet Size\n",
    "# for exploratory visualization drop all missing values\n",
    "df.dropna(inplace = True)\n"
   ]
  },
  {
   "cell_type": "code",
   "execution_count": 15,
   "id": "7157d8a8",
   "metadata": {},
   "outputs": [
    {
     "data": {
      "text/plain": [
       "Item_Identifier              0\n",
       "Item_Weight                  0\n",
       "Item_Fat_Content             0\n",
       "Item_Visibility              0\n",
       "Item_Type                    0\n",
       "Item_MRP                     0\n",
       "Outlet_Identifier            0\n",
       "Outlet_Establishment_Year    0\n",
       "Outlet_Size                  0\n",
       "Outlet_Location_Type         0\n",
       "Outlet_Type                  0\n",
       "Item_Outlet_Sales            0\n",
       "dtype: int64"
      ]
     },
     "execution_count": 15,
     "metadata": {},
     "output_type": "execute_result"
    }
   ],
   "source": [
    "#double check dropped rows\n",
    "df.isna().sum()"
   ]
  },
  {
   "cell_type": "markdown",
   "id": "d65e37f6",
   "metadata": {},
   "source": [
    "## Check All Columns"
   ]
  },
  {
   "cell_type": "markdown",
   "id": "79fe842a",
   "metadata": {},
   "source": [
    "- This is are  many data issues. Some  columns need to be checked for data issues.\n",
    " - Item Identifier and Item Weight have no obvious issues"
   ]
  },
  {
   "cell_type": "code",
   "execution_count": 19,
   "id": "2e74345a",
   "metadata": {},
   "outputs": [
    {
     "data": {
      "text/plain": [
       "Low Fat    2774\n",
       "Regular    1575\n",
       "LF          177\n",
       "reg          71\n",
       "low fat      53\n",
       "Name: Item_Fat_Content, dtype: int64"
      ]
     },
     "execution_count": 19,
     "metadata": {},
     "output_type": "execute_result"
    }
   ],
   "source": [
    "#check the syntax and spelling errors\n",
    "df['Item_Fat_Content'].value_counts()"
   ]
  },
  {
   "cell_type": "markdown",
   "id": "cf062f6e",
   "metadata": {},
   "source": [
    "- Spelling inconsistencies need to be addressed. "
   ]
  },
  {
   "cell_type": "code",
   "execution_count": 21,
   "id": "b690e1df",
   "metadata": {},
   "outputs": [
    {
     "data": {
      "text/plain": [
       "Low Fat    3004\n",
       "Regular    1646\n",
       "Name: Item_Fat_Content, dtype: int64"
      ]
     },
     "execution_count": 21,
     "metadata": {},
     "output_type": "execute_result"
    }
   ],
   "source": [
    "# fix the inconsistencies\n",
    "df['Item_Fat_Content'] = df['Item_Fat_Content'].replace('LF', 'Low Fat')\n",
    "df['Item_Fat_Content'] = df['Item_Fat_Content'].replace('low fat', 'Low Fat')\n",
    "df['Item_Fat_Content'] = df['Item_Fat_Content'].replace('reg', 'Regular')\n",
    "#check the column\n",
    "df['Item_Fat_Content'].value_counts()"
   ]
  },
  {
   "cell_type": "code",
   "execution_count": null,
   "id": "01da8451",
   "metadata": {},
   "outputs": [],
   "source": []
  },
  {
   "cell_type": "code",
   "execution_count": null,
   "id": "89b9a924",
   "metadata": {},
   "outputs": [],
   "source": []
  },
  {
   "cell_type": "code",
   "execution_count": null,
   "id": "27d6f230",
   "metadata": {},
   "outputs": [],
   "source": []
  },
  {
   "cell_type": "code",
   "execution_count": null,
   "id": "71a13aec",
   "metadata": {},
   "outputs": [],
   "source": []
  },
  {
   "cell_type": "code",
   "execution_count": 17,
   "id": "b9c73f1b",
   "metadata": {},
   "outputs": [
    {
     "data": {
      "text/plain": [
       "12.150    58\n",
       "17.600    55\n",
       "13.650    49\n",
       "11.800    49\n",
       "16.000    45\n",
       "          ..\n",
       "6.965      1\n",
       "9.035      1\n",
       "7.260      1\n",
       "7.360      1\n",
       "6.440      1\n",
       "Name: Item_Weight, Length: 409, dtype: int64"
      ]
     },
     "execution_count": 17,
     "metadata": {},
     "output_type": "execute_result"
    }
   ],
   "source": [
    "#check the syntax and spelling errors\n",
    "df['Item_Weight'].value_counts()"
   ]
  }
 ],
 "metadata": {
  "kernelspec": {
   "display_name": "Python (dojo-env)",
   "language": "python",
   "name": "dojo-env"
  },
  "language_info": {
   "codemirror_mode": {
    "name": "ipython",
    "version": 3
   },
   "file_extension": ".py",
   "mimetype": "text/x-python",
   "name": "python",
   "nbconvert_exporter": "python",
   "pygments_lexer": "ipython3",
   "version": "3.9.15"
  },
  "toc": {
   "base_numbering": 1,
   "nav_menu": {},
   "number_sections": true,
   "sideBar": true,
   "skip_h1_title": false,
   "title_cell": "Table of Contents",
   "title_sidebar": "Contents",
   "toc_cell": false,
   "toc_position": {},
   "toc_section_display": true,
   "toc_window_display": false
  }
 },
 "nbformat": 4,
 "nbformat_minor": 5
}
